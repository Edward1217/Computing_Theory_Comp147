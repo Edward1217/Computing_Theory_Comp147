{
  "nbformat": 4,
  "nbformat_minor": 0,
  "metadata": {
    "colab": {
      "provenance": []
    },
    "kernelspec": {
      "name": "python3",
      "display_name": "Python 3"
    },
    "language_info": {
      "name": "python"
    }
  },
  "cells": [
    {
      "cell_type": "code",
      "execution_count": null,
      "metadata": {
        "id": "E6J46_Jz5k26",
        "colab": {
          "base_uri": "https://localhost:8080/"
        },
        "outputId": "daf85933-3bfd-4055-a9d3-6de767f6fd92"
      },
      "outputs": [
        {
          "output_type": "stream",
          "name": "stdout",
          "text": [
            "The row number of the matrix\n",
            "4\n",
            "b c\n",
            "a c d\n",
            "a b\n",
            "b\n",
            "please enter the data in row\n",
            "1 2 3 0\n",
            "4 5 6 0\n",
            "7 8 9 0\n",
            "10 11 12 0\n",
            "-1 -4 0\n",
            "-2 -5 0\n",
            "-3 -6 0\n",
            "-1 -7 0\n",
            "-2 -8 0\n",
            "-3 -9 0\n",
            "-4 -1 0\n",
            "-5 -2 0\n",
            "-6 -3 0\n",
            "-4 -7 0\n",
            "-5 -8 0\n",
            "-6 -9 0\n",
            "-4 -10 0\n",
            "-5 -11 0\n",
            "-6 -12 0\n",
            "-7 -1 0\n",
            "-8 -2 0\n",
            "-9 -3 0\n",
            "-7 -4 0\n",
            "-8 -5 0\n",
            "-9 -6 0\n",
            "-10 -4 0\n",
            "-11 -5 0\n",
            "-12 -6 0\n"
          ]
        }
      ],
      "source": [
        "# this function can convert\n",
        "def graph_to_cnf(graph):\n",
        "    clauses = [] # this one is the matrix\n",
        "    num_nodes = len(graph) #check how many rows in this matrix\n",
        "\n",
        "    # Each node must be colored with exactly one color\n",
        "    for i in range(1, num_nodes + 1):\n",
        "        clause = [f\"{i * 3 - 2}\", f\"{i * 3 - 1}\", f\"{i * 3}\"]\n",
        "        clauses.append(\" \".join(clause) + \" 0\")\n",
        "\n",
        "    # two adjacent nodes can't have the same color\n",
        "    for node, neighbors in enumerate(graph, start=1):\n",
        "        for neighbor in neighbors:\n",
        "            clause = [f\"-{node * 3 - 2}\", f\"-{neighbor * 3 - 2}\", \"0\"]\n",
        "            clauses.append(\" \".join(clause))\n",
        "\n",
        "            clause = [f\"-{node * 3 - 1}\", f\"-{neighbor * 3 - 1}\", \"0\"]\n",
        "            clauses.append(\" \".join(clause))\n",
        "\n",
        "            clause = [f\"-{node * 3}\", f\"-{neighbor * 3}\", \"0\"]\n",
        "            clauses.append(\" \".join(clause))\n",
        "\n",
        "    return clauses\n",
        "\n",
        "#input the number of rows of the matrix and the data in every row\n",
        "def input_graph():\n",
        "    list=[]\n",
        "    n= int(input())\n",
        "    for i in range(0,n) :\n",
        "      #num = input()\n",
        "      #list.append([int(i) for i in input().split()])\n",
        "      list.append(input().split())\n",
        "    return list\n",
        "\n",
        "def print_cnf(clauses):\n",
        "    for clause in clauses:\n",
        "        print(clause)\n",
        "\n",
        "\n",
        "# Example usage\n",
        "print(\"The row number of the matrix\")\n",
        "input_graph = input_graph()\n",
        "print (\"please enter the data in row\")\n",
        "\n",
        "    #Example graph representation\n",
        "    # intput_graph = [\n",
        "    #     [2,3],\n",
        "    #     [1,3,4],\n",
        "    #     [1,2],\n",
        "    #     [4]\n",
        "    # ]\n",
        "\n",
        "\n",
        "def main():\n",
        "\n",
        "\n",
        "    #convert string into integer\n",
        "    input_graph1 = []\n",
        "    for i in range(len(input_graph)):\n",
        "      input_graph2 = []\n",
        "      for j in range(len(input_graph[i])):\n",
        "        a = ord(input_graph[i][j]) - 96\n",
        "        input_graph2.insert(j,a)\n",
        "      input_graph1.insert(i, input_graph2)\n",
        "\n",
        "\n",
        "    #Convert graph to CNF\n",
        "    cnf_clauses = graph_to_cnf(input_graph1)\n",
        "\n",
        "   # Print the CNF clauses\n",
        "    print_cnf(cnf_clauses)\n",
        "\n",
        "\n",
        "if __name__ == \"__main__\":\n",
        "    main()\n",
        "\n",
        "\n"
      ]
    },
    {
      "cell_type": "code",
      "source": [
        "#Copy the content of cnf_clauses and paste it into the online MiniSAT solver: https://msoos.github.io/cryptominisat_web/"
      ],
      "metadata": {
        "id": "5wL10CwQ0RDg"
      },
      "execution_count": null,
      "outputs": []
    }
  ]
}